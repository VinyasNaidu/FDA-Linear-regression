{
  "cells": [
    {
      "cell_type": "code",
      "execution_count": 186,
      "id": "c300c615-4444-452f-ae26-b741b92355a9",
      "metadata": {
        "id": "c300c615-4444-452f-ae26-b741b92355a9"
      },
      "outputs": [],
      "source": [
        "import pandas as pd\n",
        "import numpy as np\n",
        "import matplotlib.pyplot as plt\n",
        "import math\n",
        "from tqdm import tqdm\n",
        "from sklearn.model_selection import train_test_split"
      ]
    },
    {
      "cell_type": "code",
      "execution_count": 187,
      "id": "75b7d2a4-cc86-49d5-b446-3ee48b151596",
      "metadata": {
        "id": "75b7d2a4-cc86-49d5-b446-3ee48b151596"
      },
      "outputs": [],
      "source": [
        "class LinearRegression:\n",
        "    def __init__(self, X, y, learning_rate, tolerance, max_iterations, lambda_, sgd_iterations, batch_size, gd=False, regularization=False, sgd=False):\n",
        "        self.X = X\n",
        "        self.y = y\n",
        "        self.learning_rate = learning_rate\n",
        "        self.tolerance = tolerance\n",
        "        self.max_iterations = max_iterations\n",
        "        self.lambda_ = lambda_  # regularization parameter\n",
        "        self.sgd_iterations = sgd_iterations\n",
        "        self.batch_size = batch_size\n",
        "        self.gd = gd\n",
        "        self.regularization = regularization\n",
        "        self.sgd = sgd\n",
        "        self.iterations_count = []\n",
        "        self.error_seq = []\n",
        "        self.X_test = None\n",
        "        self.y_test = None\n",
        "\n",
        "    # Step_1: Split data into training and testing\n",
        "    def split_data(self):\n",
        "        X_train, X_test, y_train, y_test = train_test_split(self.X, self.y, test_size=0.3, shuffle=True)\n",
        "        return X_train, X_test, y_train, y_test\n",
        "\n",
        "    # Step_2: Adding one new column at beginning for intercept\n",
        "    def add_bias(self, X):\n",
        "        return np.column_stack([np.ones(X.shape[0]), X])\n",
        "\n",
        "    # Step_3: Normalizing the training data and then adding column at beginning for intercept\n",
        "    def normalize_train(self, X):\n",
        "        mean = np.mean(X, axis=0)\n",
        "        std = np.std(X, axis=0)\n",
        "        X_norm = (X - mean) / std\n",
        "        X_norm = self.add_bias(X_norm)\n",
        "        return mean, std, X_norm\n",
        "\n",
        "    def normalize_test(self, X, mean, std):\n",
        "        X_norm = (X - mean) / std\n",
        "        X_norm = self.add_bias(X_norm)\n",
        "        return X_norm\n",
        "\n",
        "    # Step_4: Closed Form solution/Normal Equation (Analytical Approach)\n",
        "    def normal_equation(self, X, y):\n",
        "        self.w = np.linalg.inv(X.T.dot(X)).dot(X.T).dot(y)\n",
        "\n",
        "    # Regularization (Ridge) with closed form solution\n",
        "    def ridge_regression_normal(self, X, y, lambda_):\n",
        "        m = X.shape[1]  # Number of features including intercept\n",
        "        I = np.identity(m)  # Identity matrix\n",
        "        I[0, 0] = 0  # Do not regularize the bias term\n",
        "        self.w = np.linalg.inv(X.T.dot(X) + lambda_ * I).dot(X.T).dot(y)\n",
        "\n",
        "    def predict(self, X):\n",
        "        return X.dot(self.w)\n",
        "\n",
        "    # Sum of Squared Errors\n",
        "    def sse(self, X, y):\n",
        "        y_hat = self.predict(X)\n",
        "        return ((y_hat - y) ** 2).sum()\n",
        "\n",
        "    # Root Mean Squared Error\n",
        "    def rmse(self, X, y):\n",
        "        sse = self.sse(X, y)\n",
        "        return np.sqrt(sse / X.shape[0])\n",
        "\n",
        "    # Cost function (RMSE)\n",
        "    def cost_function_rmse(self, X, y):\n",
        "        rmse = self.rmse(X, y)\n",
        "        return rmse / 2\n",
        "\n",
        "    # Gradient of cost function\n",
        "    def cost_derivative(self, X, y):\n",
        "        y_hat = self.predict(X)\n",
        "        return (y_hat - y).dot(X)\n",
        "\n",
        "    def reg_cost_derivative(self, X, y):\n",
        "        y_hat = self.predict(X)\n",
        "        return (y_hat - y).dot(X) / X.shape[0]\n",
        "\n",
        "    # Gradient Descent\n",
        "    def gradient_descent(self, X, y):\n",
        "        self.errors = []  # list to keep track of errors\n",
        "        prev_error = float(np.inf)  # variable that keeps track of previous error\n",
        "\n",
        "        # Initialize weights with size including intercept term\n",
        "        self.w = np.zeros(X.shape[1])\n",
        "\n",
        "        for i in tqdm(range(self.max_iterations)):\n",
        "            grad = self.cost_derivative(X, y)\n",
        "            self.w = self.w - self.learning_rate * grad\n",
        "            current_error = self.cost_function_rmse(X, y)\n",
        "            self.errors.append(current_error)\n",
        "            if abs(current_error - prev_error) < self.tolerance:\n",
        "                print(\"The model stopped learning\")\n",
        "                break\n",
        "            prev_error = current_error\n",
        "\n",
        "        self.plot_rmse(self.errors)\n",
        "\n",
        "    # Regularization using norm 2 (Ridge Regression)\n",
        "    def reg_gradient_descent(self, X, y):\n",
        "        self.errors = []  # list to keep track of errors\n",
        "        prev_error = float(np.inf)  # variable that keeps track of previous error\n",
        "\n",
        "        # Initialize weights with size including intercept term\n",
        "        self.w = np.zeros(X.shape[1])\n",
        "\n",
        "        for t in tqdm(range(self.max_iterations)):\n",
        "            grad = self.cost_derivative(X, y) + lambda_ * self.w\n",
        "            self.w = self.w - self.learning_rate * grad\n",
        "            current_error = self.cost_function_rmse(X, y)\n",
        "            self.errors.append(current_error)\n",
        "            if abs(current_error - prev_error) < self.tolerance:\n",
        "                print(\"The model stopped learning\")\n",
        "                break\n",
        "            prev_error = current_error\n",
        "\n",
        "        self.plot_rmse(self.errors)\n",
        "\n",
        "    # Stochastic Gradient Descent\n",
        "    def sgradient_descent(self, X, y):\n",
        "        self.errors = []  # list to keep track of errors\n",
        "        prev_error = float(np.inf)  # variable that keeps track of previous error\n",
        "\n",
        "        # Initialize weights with size including intercept term\n",
        "        self.w = np.zeros(X.shape[1])\n",
        "\n",
        "        for t in tqdm(range(self.sgd_iterations)):\n",
        "            batch_indices = np.random.randint(0, X.shape[0], self.batch_size)\n",
        "            self.w = self.w - self.learning_rate * self.cost_derivative(X[batch_indices], y[batch_indices])\n",
        "            current_error = self.cost_function_rmse(X, y)\n",
        "            self.errors.append(current_error)\n",
        "            if abs(current_error - prev_error) < self.tolerance:\n",
        "                print(\"The model stopped learning\")\n",
        "                break\n",
        "            prev_error = current_error\n",
        "\n",
        "        self.plot_rmse(self.errors)\n",
        "\n",
        "\n",
        "    # Plot RMSE\n",
        "    def plot_rmse(self, error_sequence):\n",
        "        s = np.array(error_sequence)\n",
        "        t = np.arange(s.size)\n",
        "\n",
        "        fig, ax = plt.subplots()\n",
        "        ax.plot(t, s, label='RMSE')\n",
        "\n",
        "        ax.set(xlabel='iterations', ylabel='RMSE', title='Error Trend')\n",
        "        ax.grid()\n",
        "        ax.legend()\n",
        "\n",
        "        plt.show()\n",
        "\n",
        "    # Step_5: One main function connecting everything together\n",
        "    def fit(self):\n",
        "        X_train, self.X_test, y_train, self.y_test = self.split_data()\n",
        "        mean, std, X_train = self.normalize_train(X_train)\n",
        "        self.X_test = self.normalize_test(self.X_test, mean, std)\n",
        "\n",
        "        if not self.gd and not self.sgd:\n",
        "            print(\"Solving using Normal Equation...\")\n",
        "            if self.lambda_ > 0:\n",
        "                print(\"With Regularization\")\n",
        "                self.ridge_regression_normal(X_train, y_train, self.lambda_)\n",
        "            else:\n",
        "                print(\"Without Regularization\")\n",
        "                self.normal_equation(X_train, y_train)\n",
        "        elif self.gd:\n",
        "            print(\"Solving using Gradient Descent...\")\n",
        "            if self.lambda_ > 0:\n",
        "                print(\"With Regularization\")\n",
        "                self.reg_gradient_descent(X_train, y_train)\n",
        "            else:\n",
        "                print(\"Without Regularization\")\n",
        "                self.gradient_descent(X_train, y_train)\n",
        "        elif self.sgd:\n",
        "            print(\"Solving using Stochastic Gradient Descent...\")\n",
        "            self.sgradient_descent(X_train, y_train)\n",
        "\n",
        "        print(\"Final weights:\", self.w)\n",
        "\n",
        "\n"
      ]
    },
    {
      "cell_type": "code",
      "source": [
        "# Mount drive\n",
        "from google.colab import drive\n",
        "drive.mount('/content/drive')"
      ],
      "metadata": {
        "colab": {
          "base_uri": "https://localhost:8080/"
        },
        "id": "3Ha0ghmiswSz",
        "outputId": "52b72caf-7b1f-4e20-d4d4-e28f1e88c831"
      },
      "id": "3Ha0ghmiswSz",
      "execution_count": 188,
      "outputs": [
        {
          "output_type": "stream",
          "name": "stdout",
          "text": [
            "Drive already mounted at /content/drive; to attempt to forcibly remount, call drive.mount(\"/content/drive\", force_remount=True).\n"
          ]
        }
      ]
    },
    {
      "cell_type": "code",
      "source": [
        "# Set working directory\n",
        "%cd /content/drive/MyDrive/Stats_for_engineers/Lab_1/"
      ],
      "metadata": {
        "colab": {
          "base_uri": "https://localhost:8080/"
        },
        "id": "Ujexg3r5tL4K",
        "outputId": "c3b131d4-7018-4707-eb5b-01042b1598f7"
      },
      "id": "Ujexg3r5tL4K",
      "execution_count": 189,
      "outputs": [
        {
          "output_type": "stream",
          "name": "stdout",
          "text": [
            "/content/drive/MyDrive/Stats_for_engineers/Lab_1\n"
          ]
        }
      ]
    },
    {
      "cell_type": "markdown",
      "source": [
        "## Housing Dataset"
      ],
      "metadata": {
        "id": "SRglzljZQAQj"
      },
      "id": "SRglzljZQAQj"
    },
    {
      "cell_type": "code",
      "source": [
        "df_housing = pd.read_csv('housing.csv')\n"
      ],
      "metadata": {
        "id": "FNUTnpGD_tUF"
      },
      "id": "FNUTnpGD_tUF",
      "execution_count": 212,
      "outputs": []
    },
    {
      "cell_type": "code",
      "source": [
        "df_housing.head()"
      ],
      "metadata": {
        "colab": {
          "base_uri": "https://localhost:8080/",
          "height": 206
        },
        "id": "SYDp7-QOYFVY",
        "outputId": "f66b599c-3bdc-4da1-925a-94b15f41633c"
      },
      "id": "SYDp7-QOYFVY",
      "execution_count": 213,
      "outputs": [
        {
          "output_type": "execute_result",
          "data": {
            "text/plain": [
              "   0.00632   18  2.31  0  0.538  6.575  65.2    4.09  1  296  15.3   396.9  \\\n",
              "0  0.02731  0.0  7.07  0  0.469  6.421  78.9  4.9671  2  242  17.8  396.90   \n",
              "1  0.02729  0.0  7.07  0  0.469  7.185  61.1  4.9671  2  242  17.8  392.83   \n",
              "2  0.03237  0.0  2.18  0  0.458  6.998  45.8  6.0622  3  222  18.7  394.63   \n",
              "3  0.06905  0.0  2.18  0  0.458  7.147  54.2  6.0622  3  222  18.7  396.90   \n",
              "4  0.02985  0.0  2.18  0  0.458  6.430  58.7  6.0622  3  222  18.7  394.12   \n",
              "\n",
              "   4.98    24  \n",
              "0  9.14  21.6  \n",
              "1  4.03  34.7  \n",
              "2  2.94  33.4  \n",
              "3  5.33  36.2  \n",
              "4  5.21  28.7  "
            ],
            "text/html": [
              "\n",
              "  <div id=\"df-2580c85d-1dfb-4cb3-96ea-42ca47a7661f\" class=\"colab-df-container\">\n",
              "    <div>\n",
              "<style scoped>\n",
              "    .dataframe tbody tr th:only-of-type {\n",
              "        vertical-align: middle;\n",
              "    }\n",
              "\n",
              "    .dataframe tbody tr th {\n",
              "        vertical-align: top;\n",
              "    }\n",
              "\n",
              "    .dataframe thead th {\n",
              "        text-align: right;\n",
              "    }\n",
              "</style>\n",
              "<table border=\"1\" class=\"dataframe\">\n",
              "  <thead>\n",
              "    <tr style=\"text-align: right;\">\n",
              "      <th></th>\n",
              "      <th>0.00632</th>\n",
              "      <th>18</th>\n",
              "      <th>2.31</th>\n",
              "      <th>0</th>\n",
              "      <th>0.538</th>\n",
              "      <th>6.575</th>\n",
              "      <th>65.2</th>\n",
              "      <th>4.09</th>\n",
              "      <th>1</th>\n",
              "      <th>296</th>\n",
              "      <th>15.3</th>\n",
              "      <th>396.9</th>\n",
              "      <th>4.98</th>\n",
              "      <th>24</th>\n",
              "    </tr>\n",
              "  </thead>\n",
              "  <tbody>\n",
              "    <tr>\n",
              "      <th>0</th>\n",
              "      <td>0.02731</td>\n",
              "      <td>0.0</td>\n",
              "      <td>7.07</td>\n",
              "      <td>0</td>\n",
              "      <td>0.469</td>\n",
              "      <td>6.421</td>\n",
              "      <td>78.9</td>\n",
              "      <td>4.9671</td>\n",
              "      <td>2</td>\n",
              "      <td>242</td>\n",
              "      <td>17.8</td>\n",
              "      <td>396.90</td>\n",
              "      <td>9.14</td>\n",
              "      <td>21.6</td>\n",
              "    </tr>\n",
              "    <tr>\n",
              "      <th>1</th>\n",
              "      <td>0.02729</td>\n",
              "      <td>0.0</td>\n",
              "      <td>7.07</td>\n",
              "      <td>0</td>\n",
              "      <td>0.469</td>\n",
              "      <td>7.185</td>\n",
              "      <td>61.1</td>\n",
              "      <td>4.9671</td>\n",
              "      <td>2</td>\n",
              "      <td>242</td>\n",
              "      <td>17.8</td>\n",
              "      <td>392.83</td>\n",
              "      <td>4.03</td>\n",
              "      <td>34.7</td>\n",
              "    </tr>\n",
              "    <tr>\n",
              "      <th>2</th>\n",
              "      <td>0.03237</td>\n",
              "      <td>0.0</td>\n",
              "      <td>2.18</td>\n",
              "      <td>0</td>\n",
              "      <td>0.458</td>\n",
              "      <td>6.998</td>\n",
              "      <td>45.8</td>\n",
              "      <td>6.0622</td>\n",
              "      <td>3</td>\n",
              "      <td>222</td>\n",
              "      <td>18.7</td>\n",
              "      <td>394.63</td>\n",
              "      <td>2.94</td>\n",
              "      <td>33.4</td>\n",
              "    </tr>\n",
              "    <tr>\n",
              "      <th>3</th>\n",
              "      <td>0.06905</td>\n",
              "      <td>0.0</td>\n",
              "      <td>2.18</td>\n",
              "      <td>0</td>\n",
              "      <td>0.458</td>\n",
              "      <td>7.147</td>\n",
              "      <td>54.2</td>\n",
              "      <td>6.0622</td>\n",
              "      <td>3</td>\n",
              "      <td>222</td>\n",
              "      <td>18.7</td>\n",
              "      <td>396.90</td>\n",
              "      <td>5.33</td>\n",
              "      <td>36.2</td>\n",
              "    </tr>\n",
              "    <tr>\n",
              "      <th>4</th>\n",
              "      <td>0.02985</td>\n",
              "      <td>0.0</td>\n",
              "      <td>2.18</td>\n",
              "      <td>0</td>\n",
              "      <td>0.458</td>\n",
              "      <td>6.430</td>\n",
              "      <td>58.7</td>\n",
              "      <td>6.0622</td>\n",
              "      <td>3</td>\n",
              "      <td>222</td>\n",
              "      <td>18.7</td>\n",
              "      <td>394.12</td>\n",
              "      <td>5.21</td>\n",
              "      <td>28.7</td>\n",
              "    </tr>\n",
              "  </tbody>\n",
              "</table>\n",
              "</div>\n",
              "    <div class=\"colab-df-buttons\">\n",
              "\n",
              "  <div class=\"colab-df-container\">\n",
              "    <button class=\"colab-df-convert\" onclick=\"convertToInteractive('df-2580c85d-1dfb-4cb3-96ea-42ca47a7661f')\"\n",
              "            title=\"Convert this dataframe to an interactive table.\"\n",
              "            style=\"display:none;\">\n",
              "\n",
              "  <svg xmlns=\"http://www.w3.org/2000/svg\" height=\"24px\" viewBox=\"0 -960 960 960\">\n",
              "    <path d=\"M120-120v-720h720v720H120Zm60-500h600v-160H180v160Zm220 220h160v-160H400v160Zm0 220h160v-160H400v160ZM180-400h160v-160H180v160Zm440 0h160v-160H620v160ZM180-180h160v-160H180v160Zm440 0h160v-160H620v160Z\"/>\n",
              "  </svg>\n",
              "    </button>\n",
              "\n",
              "  <style>\n",
              "    .colab-df-container {\n",
              "      display:flex;\n",
              "      gap: 12px;\n",
              "    }\n",
              "\n",
              "    .colab-df-convert {\n",
              "      background-color: #E8F0FE;\n",
              "      border: none;\n",
              "      border-radius: 50%;\n",
              "      cursor: pointer;\n",
              "      display: none;\n",
              "      fill: #1967D2;\n",
              "      height: 32px;\n",
              "      padding: 0 0 0 0;\n",
              "      width: 32px;\n",
              "    }\n",
              "\n",
              "    .colab-df-convert:hover {\n",
              "      background-color: #E2EBFA;\n",
              "      box-shadow: 0px 1px 2px rgba(60, 64, 67, 0.3), 0px 1px 3px 1px rgba(60, 64, 67, 0.15);\n",
              "      fill: #174EA6;\n",
              "    }\n",
              "\n",
              "    .colab-df-buttons div {\n",
              "      margin-bottom: 4px;\n",
              "    }\n",
              "\n",
              "    [theme=dark] .colab-df-convert {\n",
              "      background-color: #3B4455;\n",
              "      fill: #D2E3FC;\n",
              "    }\n",
              "\n",
              "    [theme=dark] .colab-df-convert:hover {\n",
              "      background-color: #434B5C;\n",
              "      box-shadow: 0px 1px 3px 1px rgba(0, 0, 0, 0.15);\n",
              "      filter: drop-shadow(0px 1px 2px rgba(0, 0, 0, 0.3));\n",
              "      fill: #FFFFFF;\n",
              "    }\n",
              "  </style>\n",
              "\n",
              "    <script>\n",
              "      const buttonEl =\n",
              "        document.querySelector('#df-2580c85d-1dfb-4cb3-96ea-42ca47a7661f button.colab-df-convert');\n",
              "      buttonEl.style.display =\n",
              "        google.colab.kernel.accessAllowed ? 'block' : 'none';\n",
              "\n",
              "      async function convertToInteractive(key) {\n",
              "        const element = document.querySelector('#df-2580c85d-1dfb-4cb3-96ea-42ca47a7661f');\n",
              "        const dataTable =\n",
              "          await google.colab.kernel.invokeFunction('convertToInteractive',\n",
              "                                                    [key], {});\n",
              "        if (!dataTable) return;\n",
              "\n",
              "        const docLinkHtml = 'Like what you see? Visit the ' +\n",
              "          '<a target=\"_blank\" href=https://colab.research.google.com/notebooks/data_table.ipynb>data table notebook</a>'\n",
              "          + ' to learn more about interactive tables.';\n",
              "        element.innerHTML = '';\n",
              "        dataTable['output_type'] = 'display_data';\n",
              "        await google.colab.output.renderOutput(dataTable, element);\n",
              "        const docLink = document.createElement('div');\n",
              "        docLink.innerHTML = docLinkHtml;\n",
              "        element.appendChild(docLink);\n",
              "      }\n",
              "    </script>\n",
              "  </div>\n",
              "\n",
              "\n",
              "<div id=\"df-4c332c13-efca-4f1b-b127-2fc12fe40f8d\">\n",
              "  <button class=\"colab-df-quickchart\" onclick=\"quickchart('df-4c332c13-efca-4f1b-b127-2fc12fe40f8d')\"\n",
              "            title=\"Suggest charts\"\n",
              "            style=\"display:none;\">\n",
              "\n",
              "<svg xmlns=\"http://www.w3.org/2000/svg\" height=\"24px\"viewBox=\"0 0 24 24\"\n",
              "     width=\"24px\">\n",
              "    <g>\n",
              "        <path d=\"M19 3H5c-1.1 0-2 .9-2 2v14c0 1.1.9 2 2 2h14c1.1 0 2-.9 2-2V5c0-1.1-.9-2-2-2zM9 17H7v-7h2v7zm4 0h-2V7h2v10zm4 0h-2v-4h2v4z\"/>\n",
              "    </g>\n",
              "</svg>\n",
              "  </button>\n",
              "\n",
              "<style>\n",
              "  .colab-df-quickchart {\n",
              "      --bg-color: #E8F0FE;\n",
              "      --fill-color: #1967D2;\n",
              "      --hover-bg-color: #E2EBFA;\n",
              "      --hover-fill-color: #174EA6;\n",
              "      --disabled-fill-color: #AAA;\n",
              "      --disabled-bg-color: #DDD;\n",
              "  }\n",
              "\n",
              "  [theme=dark] .colab-df-quickchart {\n",
              "      --bg-color: #3B4455;\n",
              "      --fill-color: #D2E3FC;\n",
              "      --hover-bg-color: #434B5C;\n",
              "      --hover-fill-color: #FFFFFF;\n",
              "      --disabled-bg-color: #3B4455;\n",
              "      --disabled-fill-color: #666;\n",
              "  }\n",
              "\n",
              "  .colab-df-quickchart {\n",
              "    background-color: var(--bg-color);\n",
              "    border: none;\n",
              "    border-radius: 50%;\n",
              "    cursor: pointer;\n",
              "    display: none;\n",
              "    fill: var(--fill-color);\n",
              "    height: 32px;\n",
              "    padding: 0;\n",
              "    width: 32px;\n",
              "  }\n",
              "\n",
              "  .colab-df-quickchart:hover {\n",
              "    background-color: var(--hover-bg-color);\n",
              "    box-shadow: 0 1px 2px rgba(60, 64, 67, 0.3), 0 1px 3px 1px rgba(60, 64, 67, 0.15);\n",
              "    fill: var(--button-hover-fill-color);\n",
              "  }\n",
              "\n",
              "  .colab-df-quickchart-complete:disabled,\n",
              "  .colab-df-quickchart-complete:disabled:hover {\n",
              "    background-color: var(--disabled-bg-color);\n",
              "    fill: var(--disabled-fill-color);\n",
              "    box-shadow: none;\n",
              "  }\n",
              "\n",
              "  .colab-df-spinner {\n",
              "    border: 2px solid var(--fill-color);\n",
              "    border-color: transparent;\n",
              "    border-bottom-color: var(--fill-color);\n",
              "    animation:\n",
              "      spin 1s steps(1) infinite;\n",
              "  }\n",
              "\n",
              "  @keyframes spin {\n",
              "    0% {\n",
              "      border-color: transparent;\n",
              "      border-bottom-color: var(--fill-color);\n",
              "      border-left-color: var(--fill-color);\n",
              "    }\n",
              "    20% {\n",
              "      border-color: transparent;\n",
              "      border-left-color: var(--fill-color);\n",
              "      border-top-color: var(--fill-color);\n",
              "    }\n",
              "    30% {\n",
              "      border-color: transparent;\n",
              "      border-left-color: var(--fill-color);\n",
              "      border-top-color: var(--fill-color);\n",
              "      border-right-color: var(--fill-color);\n",
              "    }\n",
              "    40% {\n",
              "      border-color: transparent;\n",
              "      border-right-color: var(--fill-color);\n",
              "      border-top-color: var(--fill-color);\n",
              "    }\n",
              "    60% {\n",
              "      border-color: transparent;\n",
              "      border-right-color: var(--fill-color);\n",
              "    }\n",
              "    80% {\n",
              "      border-color: transparent;\n",
              "      border-right-color: var(--fill-color);\n",
              "      border-bottom-color: var(--fill-color);\n",
              "    }\n",
              "    90% {\n",
              "      border-color: transparent;\n",
              "      border-bottom-color: var(--fill-color);\n",
              "    }\n",
              "  }\n",
              "</style>\n",
              "\n",
              "  <script>\n",
              "    async function quickchart(key) {\n",
              "      const quickchartButtonEl =\n",
              "        document.querySelector('#' + key + ' button');\n",
              "      quickchartButtonEl.disabled = true;  // To prevent multiple clicks.\n",
              "      quickchartButtonEl.classList.add('colab-df-spinner');\n",
              "      try {\n",
              "        const charts = await google.colab.kernel.invokeFunction(\n",
              "            'suggestCharts', [key], {});\n",
              "      } catch (error) {\n",
              "        console.error('Error during call to suggestCharts:', error);\n",
              "      }\n",
              "      quickchartButtonEl.classList.remove('colab-df-spinner');\n",
              "      quickchartButtonEl.classList.add('colab-df-quickchart-complete');\n",
              "    }\n",
              "    (() => {\n",
              "      let quickchartButtonEl =\n",
              "        document.querySelector('#df-4c332c13-efca-4f1b-b127-2fc12fe40f8d button');\n",
              "      quickchartButtonEl.style.display =\n",
              "        google.colab.kernel.accessAllowed ? 'block' : 'none';\n",
              "    })();\n",
              "  </script>\n",
              "</div>\n",
              "\n",
              "    </div>\n",
              "  </div>\n"
            ],
            "application/vnd.google.colaboratory.intrinsic+json": {
              "type": "dataframe",
              "variable_name": "df_housing",
              "summary": "{\n  \"name\": \"df_housing\",\n  \"rows\": 505,\n  \"fields\": [\n    {\n      \"column\": \"0.00632\",\n      \"properties\": {\n        \"dtype\": \"number\",\n        \"std\": 8.608569119296817,\n        \"min\": 0.00906,\n        \"max\": 88.976,\n        \"num_unique_values\": 503,\n        \"samples\": [\n          0.09065,\n          0.07896,\n          0.03502\n        ],\n        \"semantic_type\": \"\",\n        \"description\": \"\"\n      }\n    },\n    {\n      \"column\": \"18\",\n      \"properties\": {\n        \"dtype\": \"number\",\n        \"std\": 23.343703578872166,\n        \"min\": 0.0,\n        \"max\": 100.0,\n        \"num_unique_values\": 25,\n        \"samples\": [\n          17.5,\n          22.0,\n          0.0\n        ],\n        \"semantic_type\": \"\",\n        \"description\": \"\"\n      }\n    },\n    {\n      \"column\": \"2.31\",\n      \"properties\": {\n        \"dtype\": \"number\",\n        \"std\": 6.8558683510040455,\n        \"min\": 0.46,\n        \"max\": 27.74,\n        \"num_unique_values\": 75,\n        \"samples\": [\n          5.96,\n          3.78,\n          0.74\n        ],\n        \"semantic_type\": \"\",\n        \"description\": \"\"\n      }\n    },\n    {\n      \"column\": \"0\",\n      \"properties\": {\n        \"dtype\": \"number\",\n        \"std\": 0,\n        \"min\": 0,\n        \"max\": 1,\n        \"num_unique_values\": 2,\n        \"samples\": [\n          1,\n          0\n        ],\n        \"semantic_type\": \"\",\n        \"description\": \"\"\n      }\n    },\n    {\n      \"column\": \"0.538\",\n      \"properties\": {\n        \"dtype\": \"number\",\n        \"std\": 0.11599018808318726,\n        \"min\": 0.385,\n        \"max\": 0.871,\n        \"num_unique_values\": 81,\n        \"samples\": [\n          0.401,\n          0.469\n        ],\n        \"semantic_type\": \"\",\n        \"description\": \"\"\n      }\n    },\n    {\n      \"column\": \"6.575\",\n      \"properties\": {\n        \"dtype\": \"number\",\n        \"std\": 0.7031946661682127,\n        \"min\": 3.561,\n        \"max\": 8.78,\n        \"num_unique_values\": 445,\n        \"samples\": [\n          6.635,\n          5.39\n        ],\n        \"semantic_type\": \"\",\n        \"description\": \"\"\n      }\n    },\n    {\n      \"column\": \"65.2\",\n      \"properties\": {\n        \"dtype\": \"number\",\n        \"std\": 28.176371205512957,\n        \"min\": 2.9,\n        \"max\": 100.0,\n        \"num_unique_values\": 356,\n        \"samples\": [\n          51.8,\n          33.3\n        ],\n        \"semantic_type\": \"\",\n        \"description\": \"\"\n      }\n    },\n    {\n      \"column\": \"4.09\",\n      \"properties\": {\n        \"dtype\": \"number\",\n        \"std\": 2.1077609120422496,\n        \"min\": 1.1296,\n        \"max\": 12.127,\n        \"num_unique_values\": 411,\n        \"samples\": [\n          3.4211,\n          5.4011\n        ],\n        \"semantic_type\": \"\",\n        \"description\": \"\"\n      }\n    },\n    {\n      \"column\": \"1\",\n      \"properties\": {\n        \"dtype\": \"number\",\n        \"std\": 8,\n        \"min\": 1,\n        \"max\": 24,\n        \"num_unique_values\": 9,\n        \"samples\": [\n          7,\n          3\n        ],\n        \"semantic_type\": \"\",\n        \"description\": \"\"\n      }\n    },\n    {\n      \"column\": \"296\",\n      \"properties\": {\n        \"dtype\": \"number\",\n        \"std\": 168,\n        \"min\": 187,\n        \"max\": 711,\n        \"num_unique_values\": 66,\n        \"samples\": [\n          370,\n          666\n        ],\n        \"semantic_type\": \"\",\n        \"description\": \"\"\n      }\n    },\n    {\n      \"column\": \"15.3\",\n      \"properties\": {\n        \"dtype\": \"number\",\n        \"std\": 2.162520022863356,\n        \"min\": 12.6,\n        \"max\": 22.0,\n        \"num_unique_values\": 46,\n        \"samples\": [\n          19.6,\n          14.4\n        ],\n        \"semantic_type\": \"\",\n        \"description\": \"\"\n      }\n    },\n    {\n      \"column\": \"396.9\",\n      \"properties\": {\n        \"dtype\": \"number\",\n        \"std\": 91.36778721047762,\n        \"min\": 0.32,\n        \"max\": 396.9,\n        \"num_unique_values\": 357,\n        \"samples\": [\n          396.24,\n          395.11\n        ],\n        \"semantic_type\": \"\",\n        \"description\": \"\"\n      }\n    },\n    {\n      \"column\": \"4.98\",\n      \"properties\": {\n        \"dtype\": \"number\",\n        \"std\": 7.139950350319606,\n        \"min\": 1.73,\n        \"max\": 37.97,\n        \"num_unique_values\": 454,\n        \"samples\": [\n          6.15,\n          1.98\n        ],\n        \"semantic_type\": \"\",\n        \"description\": \"\"\n      }\n    },\n    {\n      \"column\": \"24\",\n      \"properties\": {\n        \"dtype\": \"number\",\n        \"std\": 9.20599124438889,\n        \"min\": 5.0,\n        \"max\": 50.0,\n        \"num_unique_values\": 229,\n        \"samples\": [\n          14.1,\n          23.6\n        ],\n        \"semantic_type\": \"\",\n        \"description\": \"\"\n      }\n    }\n  ]\n}"
            }
          },
          "metadata": {},
          "execution_count": 213
        }
      ]
    },
    {
      "cell_type": "code",
      "source": [
        "X_housing = df_housing.iloc[:, :-1].values\n",
        "y_housing = df_housing.iloc[:, -1].values"
      ],
      "metadata": {
        "id": "yxmb7G3r_vKk"
      },
      "id": "yxmb7G3r_vKk",
      "execution_count": 191,
      "outputs": []
    },
    {
      "cell_type": "code",
      "source": [
        "clf = LinearRegression(X_housing, y_housing, learning_rate=0.0004, tolerance=0.005, max_iterations=50000, lambda_ = 0,\n",
        "                       sgd_iterations=100, batch_size=1, gd=False, regularization=False, sgd=False)\n",
        "clf.fit()\n",
        "\n",
        "# Since normal equation doesn't populate the errors list, we only plot RMSE if using gradient descent or SGD\n",
        "#if clf.gd or clf.sgd:\n",
        " #   clf.plot_rmse(clf.errors)"
      ],
      "metadata": {
        "colab": {
          "base_uri": "https://localhost:8080/"
        },
        "id": "Pz6elvjrCPmF",
        "outputId": "64d27949-55bf-4d1a-cc7e-aa39fefd68c4"
      },
      "id": "Pz6elvjrCPmF",
      "execution_count": 193,
      "outputs": [
        {
          "output_type": "stream",
          "name": "stdout",
          "text": [
            "Solving using Normal Equation...\n",
            "Without Regularization\n",
            "Final weights: [22.40368272 -0.92929342  0.83186785 -0.12135026  0.98614294 -2.05772926\n",
            "  2.562468    0.04400682 -3.07788622  2.5233214  -1.77063346 -2.01180771\n",
            "  0.90894824 -3.96916619]\n"
          ]
        }
      ]
    },
    {
      "cell_type": "code",
      "source": [
        "clf = LinearRegression(X_housing, y_housing, learning_rate=0.0004, tolerance=0.005, max_iterations=50000, lambda_=0.001,\n",
        "                       sgd_iterations=100, batch_size=1, gd=False, regularization=True, sgd=False)\n",
        "clf.fit()\n",
        "\n",
        "# Since normal equation doesn't populate the errors list, we only plot RMSE if using gradient descent or SGD\n",
        "#if clf.gd or clf.sgd:\n",
        " #   clf.plot_rmse(clf.errors)"
      ],
      "metadata": {
        "colab": {
          "base_uri": "https://localhost:8080/"
        },
        "id": "eX7ixTBDB2xp",
        "outputId": "7133066c-638a-4539-c997-d3bdbd4a21e2"
      },
      "id": "eX7ixTBDB2xp",
      "execution_count": 194,
      "outputs": [
        {
          "output_type": "stream",
          "name": "stdout",
          "text": [
            "Solving using Normal Equation...\n",
            "With Regularization\n",
            "Final weights: [22.39121813 -0.54056773  0.9535065   0.10139214  1.0745541  -1.95659493\n",
            "  3.07615696 -0.15423011 -3.07985435  2.48749376 -2.00139746 -1.86528751\n",
            "  1.25363093 -3.37541742]\n"
          ]
        }
      ]
    },
    {
      "cell_type": "code",
      "source": [
        "clf = LinearRegression(X_housing, y_housing, learning_rate=0.0004, tolerance=0.005, max_iterations=50000, lambda_=0,\n",
        "                       sgd_iterations=100, batch_size=1, gd=True, regularization=False, sgd=False)\n",
        "clf.fit()\n",
        "\n",
        "# Since normal equation doesn't populate the errors list, we only plot RMSE if using gradient descent or SGD\n",
        "#if clf.gd or clf.sgd:\n",
        " #   clf.plot_rmse(clf.errors)"
      ],
      "metadata": {
        "colab": {
          "base_uri": "https://localhost:8080/",
          "height": 600
        },
        "id": "PXgtsTnFCZP-",
        "outputId": "8b20038a-7dad-48be-d70d-daad54356dbc"
      },
      "id": "PXgtsTnFCZP-",
      "execution_count": 195,
      "outputs": [
        {
          "output_type": "stream",
          "name": "stdout",
          "text": [
            "Solving using Gradient Descent...\n",
            "Without Regularization\n"
          ]
        },
        {
          "output_type": "stream",
          "name": "stderr",
          "text": [
            "  0%|          | 26/50000 [00:00<00:02, 19380.11it/s]"
          ]
        },
        {
          "output_type": "stream",
          "name": "stdout",
          "text": [
            "The model stopped learning\n"
          ]
        },
        {
          "output_type": "stream",
          "name": "stderr",
          "text": [
            "\n"
          ]
        },
        {
          "output_type": "display_data",
          "data": {
            "text/plain": [
              "<Figure size 640x480 with 1 Axes>"
            ],
            "image/png": "[encoded data removed]"
          },
          "metadata": {}
        },
        {
          "output_type": "stream",
          "name": "stdout",
          "text": [
            "Final weights: [21.89060943 -0.24280928  0.82677197 -0.49290277  0.8481719  -0.78895132\n",
            "  3.07834917 -0.54554725 -2.01715435  0.53579542 -0.59577138 -1.86371237\n",
            "  0.78861434 -2.82571728]\n"
          ]
        }
      ]
    },
    {
      "cell_type": "code",
      "source": [
        "clf = LinearRegression(X_housing, y_housing, learning_rate=0.0004, tolerance=0.005, max_iterations=50000, lambda_=0.001,\n",
        "                       sgd_iterations=100, batch_size=1, gd=True, regularization=True, sgd=False)\n",
        "clf.fit()\n",
        "\n",
        "# Since normal equation doesn't populate the errors list, we only plot RMSE if using gradient descent or SGD\n",
        "#if clf.gd or clf.sgd:\n",
        " #   clf.plot_rmse(clf.errors)"
      ],
      "metadata": {
        "colab": {
          "base_uri": "https://localhost:8080/",
          "height": 600
        },
        "id": "o16Yku7zC_mU",
        "outputId": "4c9fcf77-7c39-472e-ba18-e5cb691840dd"
      },
      "id": "o16Yku7zC_mU",
      "execution_count": 196,
      "outputs": [
        {
          "output_type": "stream",
          "name": "stdout",
          "text": [
            "Solving using Gradient Descent...\n",
            "With Regularization\n"
          ]
        },
        {
          "output_type": "stream",
          "name": "stderr",
          "text": [
            "  0%|          | 26/50000 [00:00<00:02, 20614.73it/s]"
          ]
        },
        {
          "output_type": "stream",
          "name": "stdout",
          "text": [
            "The model stopped learning\n"
          ]
        },
        {
          "output_type": "stream",
          "name": "stderr",
          "text": [
            "\n"
          ]
        },
        {
          "output_type": "display_data",
          "data": {
            "text/plain": [
              "<Figure size 640x480 with 1 Axes>"
            ],
            "image/png": "[encoded data removed]"
          },
          "metadata": {}
        },
        {
          "output_type": "stream",
          "name": "stdout",
          "text": [
            "Final weights: [22.16835301 -0.74992792  0.44551419 -0.58942728  0.89086738 -0.55344579\n",
            "  3.0079025  -0.20446941 -2.0327125   0.94378144 -0.34908788 -1.93389673\n",
            "  1.29496526 -3.75852016]\n"
          ]
        }
      ]
    },
    {
      "cell_type": "code",
      "source": [
        "clf = LinearRegression(X_housing, y_housing, learning_rate=0.0004, tolerance=0.005, max_iterations=50000, lambda_=0,\n",
        "                       sgd_iterations=100, batch_size=80, gd=False, regularization=False, sgd=True)\n",
        "clf.fit()"
      ],
      "metadata": {
        "colab": {
          "base_uri": "https://localhost:8080/",
          "height": 581
        },
        "id": "zmgXf6leCZWO",
        "outputId": "594d84e8-4ff7-4627-fd31-339b93fd11f0"
      },
      "id": "zmgXf6leCZWO",
      "execution_count": 197,
      "outputs": [
        {
          "output_type": "stream",
          "name": "stdout",
          "text": [
            "Solving using Stochastic Gradient Descent...\n"
          ]
        },
        {
          "output_type": "stream",
          "name": "stderr",
          "text": [
            " 81%|████████  | 81/100 [00:00<00:00, 7460.88it/s]"
          ]
        },
        {
          "output_type": "stream",
          "name": "stdout",
          "text": [
            "The model stopped learning\n"
          ]
        },
        {
          "output_type": "stream",
          "name": "stderr",
          "text": [
            "\n"
          ]
        },
        {
          "output_type": "display_data",
          "data": {
            "text/plain": [
              "<Figure size 640x480 with 1 Axes>"
            ],
            "image/png": "[encoded data removed]"
          },
          "metadata": {}
        },
        {
          "output_type": "stream",
          "name": "stdout",
          "text": [
            "Final weights: [20.72376248 -0.54735904  0.19379379 -0.6024718   1.26125089 -0.30847843\n",
            "  3.27185459 -0.37068047 -1.45321575  0.27853826 -0.45054418 -1.55006867\n",
            "  0.87813892 -2.84381367]\n"
          ]
        }
      ]
    },
    {
      "cell_type": "markdown",
      "source": [
        "**Smaller batch sizes in stochastic gradient descent (SGD) lead to faster convergence and lower RMSE values as they update the model more frequently with diverse data points, enabling quicker adjustments towards the optimal solution. Random shuffling ensures effectiveness by preventing the model from being trapped in local minima.**"
      ],
      "metadata": {
        "id": "LEXSxpm-VR9B"
      },
      "id": "LEXSxpm-VR9B"
    },
    {
      "cell_type": "markdown",
      "source": [
        "## Yacht DataSet"
      ],
      "metadata": {
        "id": "FUwyAMFnXUsP"
      },
      "id": "FUwyAMFnXUsP"
    },
    {
      "cell_type": "code",
      "source": [
        "df_yacht = pd.read_csv('yachtData.csv')\n"
      ],
      "metadata": {
        "id": "9xxMkzFhQcRM"
      },
      "execution_count": 214,
      "outputs": [],
      "id": "9xxMkzFhQcRM"
    },
    {
      "cell_type": "code",
      "source": [
        "df_yacht.head()"
      ],
      "metadata": {
        "colab": {
          "base_uri": "https://localhost:8080/",
          "height": 206
        },
        "id": "plEENcFmYJ8I",
        "outputId": "69dc2d80-2156-4309-c0b9-b1121125a82b"
      },
      "id": "plEENcFmYJ8I",
      "execution_count": 215,
      "outputs": [
        {
          "output_type": "execute_result",
          "data": {
            "text/plain": [
              "   -2.3  0.568  4.78  3.99  3.17  0.125  0.11\n",
              "0  -2.3  0.568  4.78  3.99  3.17  0.150  0.27\n",
              "1  -2.3  0.568  4.78  3.99  3.17  0.175  0.47\n",
              "2  -2.3  0.568  4.78  3.99  3.17  0.200  0.78\n",
              "3  -2.3  0.568  4.78  3.99  3.17  0.225  1.18\n",
              "4  -2.3  0.568  4.78  3.99  3.17  0.250  1.82"
            ],
            "text/html": [
              "\n",
              "  <div id=\"df-ba7fda3d-93a9-48d4-b962-4a2fd676a617\" class=\"colab-df-container\">\n",
              "    <div>\n",
              "<style scoped>\n",
              "    .dataframe tbody tr th:only-of-type {\n",
              "        vertical-align: middle;\n",
              "    }\n",
              "\n",
              "    .dataframe tbody tr th {\n",
              "        vertical-align: top;\n",
              "    }\n",
              "\n",
              "    .dataframe thead th {\n",
              "        text-align: right;\n",
              "    }\n",
              "</style>\n",
              "<table border=\"1\" class=\"dataframe\">\n",
              "  <thead>\n",
              "    <tr style=\"text-align: right;\">\n",
              "      <th></th>\n",
              "      <th>-2.3</th>\n",
              "      <th>0.568</th>\n",
              "      <th>4.78</th>\n",
              "      <th>3.99</th>\n",
              "      <th>3.17</th>\n",
              "      <th>0.125</th>\n",
              "      <th>0.11</th>\n",
              "    </tr>\n",
              "  </thead>\n",
              "  <tbody>\n",
              "    <tr>\n",
              "      <th>0</th>\n",
              "      <td>-2.3</td>\n",
              "      <td>0.568</td>\n",
              "      <td>4.78</td>\n",
              "      <td>3.99</td>\n",
              "      <td>3.17</td>\n",
              "      <td>0.150</td>\n",
              "      <td>0.27</td>\n",
              "    </tr>\n",
              "    <tr>\n",
              "      <th>1</th>\n",
              "      <td>-2.3</td>\n",
              "      <td>0.568</td>\n",
              "      <td>4.78</td>\n",
              "      <td>3.99</td>\n",
              "      <td>3.17</td>\n",
              "      <td>0.175</td>\n",
              "      <td>0.47</td>\n",
              "    </tr>\n",
              "    <tr>\n",
              "      <th>2</th>\n",
              "      <td>-2.3</td>\n",
              "      <td>0.568</td>\n",
              "      <td>4.78</td>\n",
              "      <td>3.99</td>\n",
              "      <td>3.17</td>\n",
              "      <td>0.200</td>\n",
              "      <td>0.78</td>\n",
              "    </tr>\n",
              "    <tr>\n",
              "      <th>3</th>\n",
              "      <td>-2.3</td>\n",
              "      <td>0.568</td>\n",
              "      <td>4.78</td>\n",
              "      <td>3.99</td>\n",
              "      <td>3.17</td>\n",
              "      <td>0.225</td>\n",
              "      <td>1.18</td>\n",
              "    </tr>\n",
              "    <tr>\n",
              "      <th>4</th>\n",
              "      <td>-2.3</td>\n",
              "      <td>0.568</td>\n",
              "      <td>4.78</td>\n",
              "      <td>3.99</td>\n",
              "      <td>3.17</td>\n",
              "      <td>0.250</td>\n",
              "      <td>1.82</td>\n",
              "    </tr>\n",
              "  </tbody>\n",
              "</table>\n",
              "</div>\n",
              "    <div class=\"colab-df-buttons\">\n",
              "\n",
              "  <div class=\"colab-df-container\">\n",
              "    <button class=\"colab-df-convert\" onclick=\"convertToInteractive('df-ba7fda3d-93a9-48d4-b962-4a2fd676a617')\"\n",
              "            title=\"Convert this dataframe to an interactive table.\"\n",
              "            style=\"display:none;\">\n",
              "\n",
              "  <svg xmlns=\"http://www.w3.org/2000/svg\" height=\"24px\" viewBox=\"0 -960 960 960\">\n",
              "    <path d=\"M120-120v-720h720v720H120Zm60-500h600v-160H180v160Zm220 220h160v-160H400v160Zm0 220h160v-160H400v160ZM180-400h160v-160H180v160Zm440 0h160v-160H620v160ZM180-180h160v-160H180v160Zm440 0h160v-160H620v160Z\"/>\n",
              "  </svg>\n",
              "    </button>\n",
              "\n",
              "  <style>\n",
              "    .colab-df-container {\n",
              "      display:flex;\n",
              "      gap: 12px;\n",
              "    }\n",
              "\n",
              "    .colab-df-convert {\n",
              "      background-color: #E8F0FE;\n",
              "      border: none;\n",
              "      border-radius: 50%;\n",
              "      cursor: pointer;\n",
              "      display: none;\n",
              "      fill: #1967D2;\n",
              "      height: 32px;\n",
              "      padding: 0 0 0 0;\n",
              "      width: 32px;\n",
              "    }\n",
              "\n",
              "    .colab-df-convert:hover {\n",
              "      background-color: #E2EBFA;\n",
              "      box-shadow: 0px 1px 2px rgba(60, 64, 67, 0.3), 0px 1px 3px 1px rgba(60, 64, 67, 0.15);\n",
              "      fill: #174EA6;\n",
              "    }\n",
              "\n",
              "    .colab-df-buttons div {\n",
              "      margin-bottom: 4px;\n",
              "    }\n",
              "\n",
              "    [theme=dark] .colab-df-convert {\n",
              "      background-color: #3B4455;\n",
              "      fill: #D2E3FC;\n",
              "    }\n",
              "\n",
              "    [theme=dark] .colab-df-convert:hover {\n",
              "      background-color: #434B5C;\n",
              "      box-shadow: 0px 1px 3px 1px rgba(0, 0, 0, 0.15);\n",
              "      filter: drop-shadow(0px 1px 2px rgba(0, 0, 0, 0.3));\n",
              "      fill: #FFFFFF;\n",
              "    }\n",
              "  </style>\n",
              "\n",
              "    <script>\n",
              "      const buttonEl =\n",
              "        document.querySelector('#df-ba7fda3d-93a9-48d4-b962-4a2fd676a617 button.colab-df-convert');\n",
              "      buttonEl.style.display =\n",
              "        google.colab.kernel.accessAllowed ? 'block' : 'none';\n",
              "\n",
              "      async function convertToInteractive(key) {\n",
              "        const element = document.querySelector('#df-ba7fda3d-93a9-48d4-b962-4a2fd676a617');\n",
              "        const dataTable =\n",
              "          await google.colab.kernel.invokeFunction('convertToInteractive',\n",
              "                                                    [key], {});\n",
              "        if (!dataTable) return;\n",
              "\n",
              "        const docLinkHtml = 'Like what you see? Visit the ' +\n",
              "          '<a target=\"_blank\" href=https://colab.research.google.com/notebooks/data_table.ipynb>data table notebook</a>'\n",
              "          + ' to learn more about interactive tables.';\n",
              "        element.innerHTML = '';\n",
              "        dataTable['output_type'] = 'display_data';\n",
              "        await google.colab.output.renderOutput(dataTable, element);\n",
              "        const docLink = document.createElement('div');\n",
              "        docLink.innerHTML = docLinkHtml;\n",
              "        element.appendChild(docLink);\n",
              "      }\n",
              "    </script>\n",
              "  </div>\n",
              "\n",
              "\n",
              "<div id=\"df-d81f10b4-73a0-4b34-8323-ce3faf104078\">\n",
              "  <button class=\"colab-df-quickchart\" onclick=\"quickchart('df-d81f10b4-73a0-4b34-8323-ce3faf104078')\"\n",
              "            title=\"Suggest charts\"\n",
              "            style=\"display:none;\">\n",
              "\n",
              "<svg xmlns=\"http://www.w3.org/2000/svg\" height=\"24px\"viewBox=\"0 0 24 24\"\n",
              "     width=\"24px\">\n",
              "    <g>\n",
              "        <path d=\"M19 3H5c-1.1 0-2 .9-2 2v14c0 1.1.9 2 2 2h14c1.1 0 2-.9 2-2V5c0-1.1-.9-2-2-2zM9 17H7v-7h2v7zm4 0h-2V7h2v10zm4 0h-2v-4h2v4z\"/>\n",
              "    </g>\n",
              "</svg>\n",
              "  </button>\n",
              "\n",
              "<style>\n",
              "  .colab-df-quickchart {\n",
              "      --bg-color: #E8F0FE;\n",
              "      --fill-color: #1967D2;\n",
              "      --hover-bg-color: #E2EBFA;\n",
              "      --hover-fill-color: #174EA6;\n",
              "      --disabled-fill-color: #AAA;\n",
              "      --disabled-bg-color: #DDD;\n",
              "  }\n",
              "\n",
              "  [theme=dark] .colab-df-quickchart {\n",
              "      --bg-color: #3B4455;\n",
              "      --fill-color: #D2E3FC;\n",
              "      --hover-bg-color: #434B5C;\n",
              "      --hover-fill-color: #FFFFFF;\n",
              "      --disabled-bg-color: #3B4455;\n",
              "      --disabled-fill-color: #666;\n",
              "  }\n",
              "\n",
              "  .colab-df-quickchart {\n",
              "    background-color: var(--bg-color);\n",
              "    border: none;\n",
              "    border-radius: 50%;\n",
              "    cursor: pointer;\n",
              "    display: none;\n",
              "    fill: var(--fill-color);\n",
              "    height: 32px;\n",
              "    padding: 0;\n",
              "    width: 32px;\n",
              "  }\n",
              "\n",
              "  .colab-df-quickchart:hover {\n",
              "    background-color: var(--hover-bg-color);\n",
              "    box-shadow: 0 1px 2px rgba(60, 64, 67, 0.3), 0 1px 3px 1px rgba(60, 64, 67, 0.15);\n",
              "    fill: var(--button-hover-fill-color);\n",
              "  }\n",
              "\n",
              "  .colab-df-quickchart-complete:disabled,\n",
              "  .colab-df-quickchart-complete:disabled:hover {\n",
              "    background-color: var(--disabled-bg-color);\n",
              "    fill: var(--disabled-fill-color);\n",
              "    box-shadow: none;\n",
              "  }\n",
              "\n",
              "  .colab-df-spinner {\n",
              "    border: 2px solid var(--fill-color);\n",
              "    border-color: transparent;\n",
              "    border-bottom-color: var(--fill-color);\n",
              "    animation:\n",
              "      spin 1s steps(1) infinite;\n",
              "  }\n",
              "\n",
              "  @keyframes spin {\n",
              "    0% {\n",
              "      border-color: transparent;\n",
              "      border-bottom-color: var(--fill-color);\n",
              "      border-left-color: var(--fill-color);\n",
              "    }\n",
              "    20% {\n",
              "      border-color: transparent;\n",
              "      border-left-color: var(--fill-color);\n",
              "      border-top-color: var(--fill-color);\n",
              "    }\n",
              "    30% {\n",
              "      border-color: transparent;\n",
              "      border-left-color: var(--fill-color);\n",
              "      border-top-color: var(--fill-color);\n",
              "      border-right-color: var(--fill-color);\n",
              "    }\n",
              "    40% {\n",
              "      border-color: transparent;\n",
              "      border-right-color: var(--fill-color);\n",
              "      border-top-color: var(--fill-color);\n",
              "    }\n",
              "    60% {\n",
              "      border-color: transparent;\n",
              "      border-right-color: var(--fill-color);\n",
              "    }\n",
              "    80% {\n",
              "      border-color: transparent;\n",
              "      border-right-color: var(--fill-color);\n",
              "      border-bottom-color: var(--fill-color);\n",
              "    }\n",
              "    90% {\n",
              "      border-color: transparent;\n",
              "      border-bottom-color: var(--fill-color);\n",
              "    }\n",
              "  }\n",
              "</style>\n",
              "\n",
              "  <script>\n",
              "    async function quickchart(key) {\n",
              "      const quickchartButtonEl =\n",
              "        document.querySelector('#' + key + ' button');\n",
              "      quickchartButtonEl.disabled = true;  // To prevent multiple clicks.\n",
              "      quickchartButtonEl.classList.add('colab-df-spinner');\n",
              "      try {\n",
              "        const charts = await google.colab.kernel.invokeFunction(\n",
              "            'suggestCharts', [key], {});\n",
              "      } catch (error) {\n",
              "        console.error('Error during call to suggestCharts:', error);\n",
              "      }\n",
              "      quickchartButtonEl.classList.remove('colab-df-spinner');\n",
              "      quickchartButtonEl.classList.add('colab-df-quickchart-complete');\n",
              "    }\n",
              "    (() => {\n",
              "      let quickchartButtonEl =\n",
              "        document.querySelector('#df-d81f10b4-73a0-4b34-8323-ce3faf104078 button');\n",
              "      quickchartButtonEl.style.display =\n",
              "        google.colab.kernel.accessAllowed ? 'block' : 'none';\n",
              "    })();\n",
              "  </script>\n",
              "</div>\n",
              "\n",
              "    </div>\n",
              "  </div>\n"
            ],
            "application/vnd.google.colaboratory.intrinsic+json": {
              "type": "dataframe",
              "variable_name": "df_yacht",
              "summary": "{\n  \"name\": \"df_yacht\",\n  \"rows\": 307,\n  \"fields\": [\n    {\n      \"column\": \"-2.3\",\n      \"properties\": {\n        \"dtype\": \"number\",\n        \"std\": 1.5156821473808544,\n        \"min\": -5.0,\n        \"max\": 0.0,\n        \"num_unique_values\": 5,\n        \"samples\": [\n          -2.4,\n          -5.0,\n          -2.2\n        ],\n        \"semantic_type\": \"\",\n        \"description\": \"\"\n      }\n    },\n    {\n      \"column\": \"0.568\",\n      \"properties\": {\n        \"dtype\": \"number\",\n        \"std\": 0.023326980677025752,\n        \"min\": 0.53,\n        \"max\": 0.6,\n        \"num_unique_values\": 10,\n        \"samples\": [\n          0.53,\n          0.569,\n          0.562\n        ],\n        \"semantic_type\": \"\",\n        \"description\": \"\"\n      }\n    },\n    {\n      \"column\": \"4.78\",\n      \"properties\": {\n        \"dtype\": \"number\",\n        \"std\": 0.25346972878134,\n        \"min\": 4.34,\n        \"max\": 5.14,\n        \"num_unique_values\": 8,\n        \"samples\": [\n          5.1,\n          4.77,\n          4.78\n        ],\n        \"semantic_type\": \"\",\n        \"description\": \"\"\n      }\n    },\n    {\n      \"column\": \"3.99\",\n      \"properties\": {\n        \"dtype\": \"number\",\n        \"std\": 0.549079575347959,\n        \"min\": 2.81,\n        \"max\": 5.35,\n        \"num_unique_values\": 17,\n        \"samples\": [\n          3.99,\n          3.04,\n          2.98\n        ],\n        \"semantic_type\": \"\",\n        \"description\": \"\"\n      }\n    },\n    {\n      \"column\": \"3.17\",\n      \"properties\": {\n        \"dtype\": \"number\",\n        \"std\": 0.2483943327115505,\n        \"min\": 2.73,\n        \"max\": 3.64,\n        \"num_unique_values\": 10,\n        \"samples\": [\n          3.16,\n          3.64,\n          3.32\n        ],\n        \"semantic_type\": \"\",\n        \"description\": \"\"\n      }\n    },\n    {\n      \"column\": \"0.125\",\n      \"properties\": {\n        \"dtype\": \"number\",\n        \"std\": 0.10067797521464866,\n        \"min\": 0.125,\n        \"max\": 0.45,\n        \"num_unique_values\": 14,\n        \"samples\": [\n          0.375,\n          0.425,\n          0.15\n        ],\n        \"semantic_type\": \"\",\n        \"description\": \"\"\n      }\n    },\n    {\n      \"column\": \"0.11\",\n      \"properties\": {\n        \"dtype\": \"number\",\n        \"std\": 15.173594011210687,\n        \"min\": 0.01,\n        \"max\": 62.42,\n        \"num_unique_values\": 258,\n        \"samples\": [\n          20.63,\n          1.37,\n          11.93\n        ],\n        \"semantic_type\": \"\",\n        \"description\": \"\"\n      }\n    }\n  ]\n}"
            }
          },
          "metadata": {},
          "execution_count": 215
        }
      ]
    },
    {
      "cell_type": "code",
      "source": [
        "X_yacht = df_yacht.iloc[:, :-1].values\n",
        "y_yacht = df_yacht.iloc[:, -1].values"
      ],
      "metadata": {
        "id": "Xf-tZRdoQcRi"
      },
      "execution_count": 199,
      "outputs": [],
      "id": "Xf-tZRdoQcRi"
    },
    {
      "cell_type": "code",
      "source": [
        "clf = LinearRegression(X_yacht, y_yacht, learning_rate=0.1 * 10**-2, tolerance=0.1 * 10**-2, max_iterations=50000, lambda_ = 0,\n",
        "                       sgd_iterations=100, batch_size=1, gd=False, regularization=False, sgd=False)\n",
        "clf.fit()\n",
        "\n",
        "# Since normal equation doesn't populate the errors list, we only plot RMSE if using gradient descent or SGD\n",
        "#if clf.gd or clf.sgd:\n",
        " #   clf.plot_rmse(clf.errors)"
      ],
      "metadata": {
        "colab": {
          "base_uri": "https://localhost:8080/"
        },
        "outputId": "a8f9745c-3b8a-4912-eb5b-af1e29424f50",
        "id": "ckpBKLzvQcRi"
      },
      "execution_count": 200,
      "outputs": [
        {
          "output_type": "stream",
          "name": "stdout",
          "text": [
            "Solving using Normal Equation...\n",
            "Without Regularization\n",
            "Final weights: [11.15014019  0.19376648  0.02608892  2.69860566 -1.94185293 -2.17673082\n",
            " 13.09005122]\n"
          ]
        }
      ],
      "id": "ckpBKLzvQcRi"
    },
    {
      "cell_type": "code",
      "source": [
        "clf = LinearRegression(X_yacht, y_yacht, learning_rate=0.1 * 10**-2, tolerance=0.1 * 10**-2, max_iterations=50000, lambda_=0.001,\n",
        "                       sgd_iterations=100, batch_size=1, gd=False, regularization=True, sgd=False)\n",
        "clf.fit()\n",
        "\n",
        "# Since normal equation doesn't populate the errors list, we only plot RMSE if using gradient descent or SGD\n",
        "#if clf.gd or clf.sgd:\n",
        " #   clf.plot_rmse(clf.errors)"
      ],
      "metadata": {
        "colab": {
          "base_uri": "https://localhost:8080/"
        },
        "outputId": "01224027-426b-44d9-8f11-3dc9a323ab6a",
        "id": "F4vsXRQaQcRj"
      },
      "execution_count": 201,
      "outputs": [
        {
          "output_type": "stream",
          "name": "stdout",
          "text": [
            "Solving using Normal Equation...\n",
            "With Regularization\n",
            "Final weights: [ 9.57345794  0.14123739  0.57331093  4.90709547 -3.70592369 -5.39685851\n",
            " 10.95578121]\n"
          ]
        }
      ],
      "id": "F4vsXRQaQcRj"
    },
    {
      "cell_type": "code",
      "source": [
        "clf = LinearRegression(X_yacht, y_yacht, learning_rate=0.1 * 10**-2, tolerance=0.1 * 10**-2, max_iterations=50000, lambda_=0,\n",
        "                       sgd_iterations=100, batch_size=1, gd=True, regularization=False, sgd=False)\n",
        "clf.fit()\n",
        "\n",
        "# Since normal equation doesn't populate the errors list, we only plot RMSE if using gradient descent or SGD\n",
        "#if clf.gd or clf.sgd:\n",
        " #   clf.plot_rmse(clf.errors)"
      ],
      "metadata": {
        "colab": {
          "base_uri": "https://localhost:8080/",
          "height": 581
        },
        "outputId": "87619589-f947-4dc7-e7ec-93dd3bbc480b",
        "id": "ztHdG0N3QcRj"
      },
      "execution_count": 202,
      "outputs": [
        {
          "output_type": "stream",
          "name": "stdout",
          "text": [
            "Solving using Gradient Descent...\n",
            "Without Regularization\n"
          ]
        },
        {
          "output_type": "stream",
          "name": "stderr",
          "text": [
            "  0%|          | 17/50000 [00:00<00:02, 22192.08it/s]"
          ]
        },
        {
          "output_type": "stream",
          "name": "stdout",
          "text": [
            "The model stopped learning\n"
          ]
        },
        {
          "output_type": "stream",
          "name": "stderr",
          "text": [
            "\n"
          ]
        },
        {
          "output_type": "display_data",
          "data": {
            "text/plain": [
              "<Figure size 640x480 with 1 Axes>"
            ],
            "image/png": "[encoded data removed]"
          },
          "metadata": {}
        },
        {
          "output_type": "stream",
          "name": "stdout",
          "text": [
            "Final weights: [ 9.24342299  0.17177309  0.17144665 -0.21167465 -0.2091275   0.17292346\n",
            " 10.90691569]\n"
          ]
        }
      ],
      "id": "ztHdG0N3QcRj"
    },
    {
      "cell_type": "code",
      "source": [
        "clf = LinearRegression(X_yacht, y_yacht, learning_rate=0.1 * 10**-2, tolerance=0.1 * 10**-2, max_iterations=50000, lambda_=0.001,\n",
        "                       sgd_iterations=100, batch_size=1, gd=True, regularization=True, sgd=False)\n",
        "clf.fit()\n",
        "\n",
        "# Since normal equation doesn't populate the errors list, we only plot RMSE if using gradient descent or SGD\n",
        "#if clf.gd or clf.sgd:\n",
        " #   clf.plot_rmse(clf.errors)"
      ],
      "metadata": {
        "colab": {
          "base_uri": "https://localhost:8080/",
          "height": 581
        },
        "outputId": "a6e077dc-dc61-483f-d9eb-745782fdb341",
        "id": "6rKVURPoQcRk"
      },
      "execution_count": 203,
      "outputs": [
        {
          "output_type": "stream",
          "name": "stdout",
          "text": [
            "Solving using Gradient Descent...\n",
            "With Regularization\n"
          ]
        },
        {
          "output_type": "stream",
          "name": "stderr",
          "text": [
            "  0%|          | 17/50000 [00:00<00:02, 20000.89it/s]"
          ]
        },
        {
          "output_type": "stream",
          "name": "stdout",
          "text": [
            "The model stopped learning\n"
          ]
        },
        {
          "output_type": "stream",
          "name": "stderr",
          "text": [
            "\n"
          ]
        },
        {
          "output_type": "display_data",
          "data": {
            "text/plain": [
              "<Figure size 640x480 with 1 Axes>"
            ],
            "image/png": "[encoded data removed]"
          },
          "metadata": {}
        },
        {
          "output_type": "stream",
          "name": "stdout",
          "text": [
            "Final weights: [10.92985018  0.67085509 -0.20976841 -0.3082234  -0.30952194 -0.24093272\n",
            " 12.22402716]\n"
          ]
        }
      ],
      "id": "6rKVURPoQcRk"
    },
    {
      "cell_type": "code",
      "source": [
        "clf = LinearRegression(X_yacht, y_yacht, learning_rate=0.1 * 10**-2, tolerance=0.1 * 10**-2, max_iterations=50000, lambda_=0,\n",
        "                       sgd_iterations=100, batch_size=80, gd=False, regularization=False, sgd=True)\n",
        "clf.fit()"
      ],
      "metadata": {
        "colab": {
          "base_uri": "https://localhost:8080/",
          "height": 563
        },
        "outputId": "6475fcff-8ba6-4937-e6b9-b3421418ee8c",
        "id": "NeOKHBn8QcRk"
      },
      "execution_count": 204,
      "outputs": [
        {
          "output_type": "stream",
          "name": "stdout",
          "text": [
            "Solving using Stochastic Gradient Descent...\n"
          ]
        },
        {
          "output_type": "stream",
          "name": "stderr",
          "text": [
            " 19%|█▉        | 19/100 [00:00<00:00, 6088.92it/s]"
          ]
        },
        {
          "output_type": "stream",
          "name": "stdout",
          "text": [
            "The model stopped learning\n"
          ]
        },
        {
          "output_type": "stream",
          "name": "stderr",
          "text": [
            "\n"
          ]
        },
        {
          "output_type": "display_data",
          "data": {
            "text/plain": [
              "<Figure size 640x480 with 1 Axes>"
            ],
            "image/png": "[encoded data removed]"
          },
          "metadata": {}
        },
        {
          "output_type": "stream",
          "name": "stdout",
          "text": [
            "Final weights: [ 7.8081351  -0.10362581  0.45930714  0.55072375  0.2002812   0.30611458\n",
            "  9.27290345]\n"
          ]
        }
      ],
      "id": "NeOKHBn8QcRk"
    },
    {
      "cell_type": "markdown",
      "source": [
        "## Concrete Dataset"
      ],
      "metadata": {
        "id": "fbvE2suhQPHC"
      },
      "id": "fbvE2suhQPHC"
    },
    {
      "cell_type": "code",
      "source": [
        "df_concrete = pd.read_csv('concreteData.csv')\n"
      ],
      "metadata": {
        "id": "t9pI5amwEB1Z"
      },
      "id": "t9pI5amwEB1Z",
      "execution_count": 216,
      "outputs": []
    },
    {
      "cell_type": "code",
      "source": [
        "df_concrete.head()"
      ],
      "metadata": {
        "colab": {
          "base_uri": "https://localhost:8080/",
          "height": 206
        },
        "id": "-qGxilHKYPEN",
        "outputId": "cf5f1814-9f2b-4a06-bbaf-c604a2c65794"
      },
      "id": "-qGxilHKYPEN",
      "execution_count": 217,
      "outputs": [
        {
          "output_type": "execute_result",
          "data": {
            "text/plain": [
              "     540      0  0.1    162  2.5    1040    676   28  79.99\n",
              "0  540.0    0.0  0.0  162.0  2.5  1055.0  676.0   28  61.89\n",
              "1  332.5  142.5  0.0  228.0  0.0   932.0  594.0  270  40.27\n",
              "2  332.5  142.5  0.0  228.0  0.0   932.0  594.0  365  41.05\n",
              "3  198.6  132.4  0.0  192.0  0.0   978.4  825.5  360  44.30\n",
              "4  266.0  114.0  0.0  228.0  0.0   932.0  670.0   90  47.03"
            ],
            "text/html": [
              "\n",
              "  <div id=\"df-b080badd-5544-404b-980d-0116312f9f73\" class=\"colab-df-container\">\n",
              "    <div>\n",
              "<style scoped>\n",
              "    .dataframe tbody tr th:only-of-type {\n",
              "        vertical-align: middle;\n",
              "    }\n",
              "\n",
              "    .dataframe tbody tr th {\n",
              "        vertical-align: top;\n",
              "    }\n",
              "\n",
              "    .dataframe thead th {\n",
              "        text-align: right;\n",
              "    }\n",
              "</style>\n",
              "<table border=\"1\" class=\"dataframe\">\n",
              "  <thead>\n",
              "    <tr style=\"text-align: right;\">\n",
              "      <th></th>\n",
              "      <th>540</th>\n",
              "      <th>0</th>\n",
              "      <th>0.1</th>\n",
              "      <th>162</th>\n",
              "      <th>2.5</th>\n",
              "      <th>1040</th>\n",
              "      <th>676</th>\n",
              "      <th>28</th>\n",
              "      <th>79.99</th>\n",
              "    </tr>\n",
              "  </thead>\n",
              "  <tbody>\n",
              "    <tr>\n",
              "      <th>0</th>\n",
              "      <td>540.0</td>\n",
              "      <td>0.0</td>\n",
              "      <td>0.0</td>\n",
              "      <td>162.0</td>\n",
              "      <td>2.5</td>\n",
              "      <td>1055.0</td>\n",
              "      <td>676.0</td>\n",
              "      <td>28</td>\n",
              "      <td>61.89</td>\n",
              "    </tr>\n",
              "    <tr>\n",
              "      <th>1</th>\n",
              "      <td>332.5</td>\n",
              "      <td>142.5</td>\n",
              "      <td>0.0</td>\n",
              "      <td>228.0</td>\n",
              "      <td>0.0</td>\n",
              "      <td>932.0</td>\n",
              "      <td>594.0</td>\n",
              "      <td>270</td>\n",
              "      <td>40.27</td>\n",
              "    </tr>\n",
              "    <tr>\n",
              "      <th>2</th>\n",
              "      <td>332.5</td>\n",
              "      <td>142.5</td>\n",
              "      <td>0.0</td>\n",
              "      <td>228.0</td>\n",
              "      <td>0.0</td>\n",
              "      <td>932.0</td>\n",
              "      <td>594.0</td>\n",
              "      <td>365</td>\n",
              "      <td>41.05</td>\n",
              "    </tr>\n",
              "    <tr>\n",
              "      <th>3</th>\n",
              "      <td>198.6</td>\n",
              "      <td>132.4</td>\n",
              "      <td>0.0</td>\n",
              "      <td>192.0</td>\n",
              "      <td>0.0</td>\n",
              "      <td>978.4</td>\n",
              "      <td>825.5</td>\n",
              "      <td>360</td>\n",
              "      <td>44.30</td>\n",
              "    </tr>\n",
              "    <tr>\n",
              "      <th>4</th>\n",
              "      <td>266.0</td>\n",
              "      <td>114.0</td>\n",
              "      <td>0.0</td>\n",
              "      <td>228.0</td>\n",
              "      <td>0.0</td>\n",
              "      <td>932.0</td>\n",
              "      <td>670.0</td>\n",
              "      <td>90</td>\n",
              "      <td>47.03</td>\n",
              "    </tr>\n",
              "  </tbody>\n",
              "</table>\n",
              "</div>\n",
              "    <div class=\"colab-df-buttons\">\n",
              "\n",
              "  <div class=\"colab-df-container\">\n",
              "    <button class=\"colab-df-convert\" onclick=\"convertToInteractive('df-b080badd-5544-404b-980d-0116312f9f73')\"\n",
              "            title=\"Convert this dataframe to an interactive table.\"\n",
              "            style=\"display:none;\">\n",
              "\n",
              "  <svg xmlns=\"http://www.w3.org/2000/svg\" height=\"24px\" viewBox=\"0 -960 960 960\">\n",
              "    <path d=\"M120-120v-720h720v720H120Zm60-500h600v-160H180v160Zm220 220h160v-160H400v160Zm0 220h160v-160H400v160ZM180-400h160v-160H180v160Zm440 0h160v-160H620v160ZM180-180h160v-160H180v160Zm440 0h160v-160H620v160Z\"/>\n",
              "  </svg>\n",
              "    </button>\n",
              "\n",
              "  <style>\n",
              "    .colab-df-container {\n",
              "      display:flex;\n",
              "      gap: 12px;\n",
              "    }\n",
              "\n",
              "    .colab-df-convert {\n",
              "      background-color: #E8F0FE;\n",
              "      border: none;\n",
              "      border-radius: 50%;\n",
              "      cursor: pointer;\n",
              "      display: none;\n",
              "      fill: #1967D2;\n",
              "      height: 32px;\n",
              "      padding: 0 0 0 0;\n",
              "      width: 32px;\n",
              "    }\n",
              "\n",
              "    .colab-df-convert:hover {\n",
              "      background-color: #E2EBFA;\n",
              "      box-shadow: 0px 1px 2px rgba(60, 64, 67, 0.3), 0px 1px 3px 1px rgba(60, 64, 67, 0.15);\n",
              "      fill: #174EA6;\n",
              "    }\n",
              "\n",
              "    .colab-df-buttons div {\n",
              "      margin-bottom: 4px;\n",
              "    }\n",
              "\n",
              "    [theme=dark] .colab-df-convert {\n",
              "      background-color: #3B4455;\n",
              "      fill: #D2E3FC;\n",
              "    }\n",
              "\n",
              "    [theme=dark] .colab-df-convert:hover {\n",
              "      background-color: #434B5C;\n",
              "      box-shadow: 0px 1px 3px 1px rgba(0, 0, 0, 0.15);\n",
              "      filter: drop-shadow(0px 1px 2px rgba(0, 0, 0, 0.3));\n",
              "      fill: #FFFFFF;\n",
              "    }\n",
              "  </style>\n",
              "\n",
              "    <script>\n",
              "      const buttonEl =\n",
              "        document.querySelector('#df-b080badd-5544-404b-980d-0116312f9f73 button.colab-df-convert');\n",
              "      buttonEl.style.display =\n",
              "        google.colab.kernel.accessAllowed ? 'block' : 'none';\n",
              "\n",
              "      async function convertToInteractive(key) {\n",
              "        const element = document.querySelector('#df-b080badd-5544-404b-980d-0116312f9f73');\n",
              "        const dataTable =\n",
              "          await google.colab.kernel.invokeFunction('convertToInteractive',\n",
              "                                                    [key], {});\n",
              "        if (!dataTable) return;\n",
              "\n",
              "        const docLinkHtml = 'Like what you see? Visit the ' +\n",
              "          '<a target=\"_blank\" href=https://colab.research.google.com/notebooks/data_table.ipynb>data table notebook</a>'\n",
              "          + ' to learn more about interactive tables.';\n",
              "        element.innerHTML = '';\n",
              "        dataTable['output_type'] = 'display_data';\n",
              "        await google.colab.output.renderOutput(dataTable, element);\n",
              "        const docLink = document.createElement('div');\n",
              "        docLink.innerHTML = docLinkHtml;\n",
              "        element.appendChild(docLink);\n",
              "      }\n",
              "    </script>\n",
              "  </div>\n",
              "\n",
              "\n",
              "<div id=\"df-55bf58f7-ea03-4610-933a-e3814b6f702d\">\n",
              "  <button class=\"colab-df-quickchart\" onclick=\"quickchart('df-55bf58f7-ea03-4610-933a-e3814b6f702d')\"\n",
              "            title=\"Suggest charts\"\n",
              "            style=\"display:none;\">\n",
              "\n",
              "<svg xmlns=\"http://www.w3.org/2000/svg\" height=\"24px\"viewBox=\"0 0 24 24\"\n",
              "     width=\"24px\">\n",
              "    <g>\n",
              "        <path d=\"M19 3H5c-1.1 0-2 .9-2 2v14c0 1.1.9 2 2 2h14c1.1 0 2-.9 2-2V5c0-1.1-.9-2-2-2zM9 17H7v-7h2v7zm4 0h-2V7h2v10zm4 0h-2v-4h2v4z\"/>\n",
              "    </g>\n",
              "</svg>\n",
              "  </button>\n",
              "\n",
              "<style>\n",
              "  .colab-df-quickchart {\n",
              "      --bg-color: #E8F0FE;\n",
              "      --fill-color: #1967D2;\n",
              "      --hover-bg-color: #E2EBFA;\n",
              "      --hover-fill-color: #174EA6;\n",
              "      --disabled-fill-color: #AAA;\n",
              "      --disabled-bg-color: #DDD;\n",
              "  }\n",
              "\n",
              "  [theme=dark] .colab-df-quickchart {\n",
              "      --bg-color: #3B4455;\n",
              "      --fill-color: #D2E3FC;\n",
              "      --hover-bg-color: #434B5C;\n",
              "      --hover-fill-color: #FFFFFF;\n",
              "      --disabled-bg-color: #3B4455;\n",
              "      --disabled-fill-color: #666;\n",
              "  }\n",
              "\n",
              "  .colab-df-quickchart {\n",
              "    background-color: var(--bg-color);\n",
              "    border: none;\n",
              "    border-radius: 50%;\n",
              "    cursor: pointer;\n",
              "    display: none;\n",
              "    fill: var(--fill-color);\n",
              "    height: 32px;\n",
              "    padding: 0;\n",
              "    width: 32px;\n",
              "  }\n",
              "\n",
              "  .colab-df-quickchart:hover {\n",
              "    background-color: var(--hover-bg-color);\n",
              "    box-shadow: 0 1px 2px rgba(60, 64, 67, 0.3), 0 1px 3px 1px rgba(60, 64, 67, 0.15);\n",
              "    fill: var(--button-hover-fill-color);\n",
              "  }\n",
              "\n",
              "  .colab-df-quickchart-complete:disabled,\n",
              "  .colab-df-quickchart-complete:disabled:hover {\n",
              "    background-color: var(--disabled-bg-color);\n",
              "    fill: var(--disabled-fill-color);\n",
              "    box-shadow: none;\n",
              "  }\n",
              "\n",
              "  .colab-df-spinner {\n",
              "    border: 2px solid var(--fill-color);\n",
              "    border-color: transparent;\n",
              "    border-bottom-color: var(--fill-color);\n",
              "    animation:\n",
              "      spin 1s steps(1) infinite;\n",
              "  }\n",
              "\n",
              "  @keyframes spin {\n",
              "    0% {\n",
              "      border-color: transparent;\n",
              "      border-bottom-color: var(--fill-color);\n",
              "      border-left-color: var(--fill-color);\n",
              "    }\n",
              "    20% {\n",
              "      border-color: transparent;\n",
              "      border-left-color: var(--fill-color);\n",
              "      border-top-color: var(--fill-color);\n",
              "    }\n",
              "    30% {\n",
              "      border-color: transparent;\n",
              "      border-left-color: var(--fill-color);\n",
              "      border-top-color: var(--fill-color);\n",
              "      border-right-color: var(--fill-color);\n",
              "    }\n",
              "    40% {\n",
              "      border-color: transparent;\n",
              "      border-right-color: var(--fill-color);\n",
              "      border-top-color: var(--fill-color);\n",
              "    }\n",
              "    60% {\n",
              "      border-color: transparent;\n",
              "      border-right-color: var(--fill-color);\n",
              "    }\n",
              "    80% {\n",
              "      border-color: transparent;\n",
              "      border-right-color: var(--fill-color);\n",
              "      border-bottom-color: var(--fill-color);\n",
              "    }\n",
              "    90% {\n",
              "      border-color: transparent;\n",
              "      border-bottom-color: var(--fill-color);\n",
              "    }\n",
              "  }\n",
              "</style>\n",
              "\n",
              "  <script>\n",
              "    async function quickchart(key) {\n",
              "      const quickchartButtonEl =\n",
              "        document.querySelector('#' + key + ' button');\n",
              "      quickchartButtonEl.disabled = true;  // To prevent multiple clicks.\n",
              "      quickchartButtonEl.classList.add('colab-df-spinner');\n",
              "      try {\n",
              "        const charts = await google.colab.kernel.invokeFunction(\n",
              "            'suggestCharts', [key], {});\n",
              "      } catch (error) {\n",
              "        console.error('Error during call to suggestCharts:', error);\n",
              "      }\n",
              "      quickchartButtonEl.classList.remove('colab-df-spinner');\n",
              "      quickchartButtonEl.classList.add('colab-df-quickchart-complete');\n",
              "    }\n",
              "    (() => {\n",
              "      let quickchartButtonEl =\n",
              "        document.querySelector('#df-55bf58f7-ea03-4610-933a-e3814b6f702d button');\n",
              "      quickchartButtonEl.style.display =\n",
              "        google.colab.kernel.accessAllowed ? 'block' : 'none';\n",
              "    })();\n",
              "  </script>\n",
              "</div>\n",
              "\n",
              "    </div>\n",
              "  </div>\n"
            ],
            "application/vnd.google.colaboratory.intrinsic+json": {
              "type": "dataframe",
              "variable_name": "df_concrete",
              "summary": "{\n  \"name\": \"df_concrete\",\n  \"rows\": 1029,\n  \"fields\": [\n    {\n      \"column\": \"540\",\n      \"properties\": {\n        \"dtype\": \"number\",\n        \"std\": 104.24476801861637,\n        \"min\": 102.0,\n        \"max\": 540.0,\n        \"num_unique_values\": 278,\n        \"samples\": [\n          337.9,\n          290.2,\n          262.0\n        ],\n        \"semantic_type\": \"\",\n        \"description\": \"\"\n      }\n    },\n    {\n      \"column\": \"0\",\n      \"properties\": {\n        \"dtype\": \"number\",\n        \"std\": 86.29049284824889,\n        \"min\": 0.0,\n        \"max\": 359.4,\n        \"num_unique_values\": 185,\n        \"samples\": [\n          94.7,\n          119.0,\n          136.3\n        ],\n        \"semantic_type\": \"\",\n        \"description\": \"\"\n      }\n    },\n    {\n      \"column\": \"0.1\",\n      \"properties\": {\n        \"dtype\": \"number\",\n        \"std\": 64.00579215452072,\n        \"min\": 0.0,\n        \"max\": 200.1,\n        \"num_unique_values\": 156,\n        \"samples\": [\n          98.0,\n          142.0,\n          195.0\n        ],\n        \"semantic_type\": \"\",\n        \"description\": \"\"\n      }\n    },\n    {\n      \"column\": \"162\",\n      \"properties\": {\n        \"dtype\": \"number\",\n        \"std\": 21.355875561654376,\n        \"min\": 121.8,\n        \"max\": 247.0,\n        \"num_unique_values\": 195,\n        \"samples\": [\n          195.4,\n          183.8,\n          127.3\n        ],\n        \"semantic_type\": \"\",\n        \"description\": \"\"\n      }\n    },\n    {\n      \"column\": \"2.5\",\n      \"properties\": {\n        \"dtype\": \"number\",\n        \"std\": 5.975628175158104,\n        \"min\": 0.0,\n        \"max\": 32.2,\n        \"num_unique_values\": 111,\n        \"samples\": [\n          15.0,\n          28.2,\n          16.5\n        ],\n        \"semantic_type\": \"\",\n        \"description\": \"\"\n      }\n    },\n    {\n      \"column\": \"1040\",\n      \"properties\": {\n        \"dtype\": \"number\",\n        \"std\": 77.76359564401352,\n        \"min\": 801.0,\n        \"max\": 1145.0,\n        \"num_unique_values\": 284,\n        \"samples\": [\n          936.0,\n          913.9,\n          914.0\n        ],\n        \"semantic_type\": \"\",\n        \"description\": \"\"\n      }\n    },\n    {\n      \"column\": \"676\",\n      \"properties\": {\n        \"dtype\": \"number\",\n        \"std\": 80.15715372206837,\n        \"min\": 594.0,\n        \"max\": 992.6,\n        \"num_unique_values\": 302,\n        \"samples\": [\n          710.0,\n          695.4,\n          769.3\n        ],\n        \"semantic_type\": \"\",\n        \"description\": \"\"\n      }\n    },\n    {\n      \"column\": \"28\",\n      \"properties\": {\n        \"dtype\": \"number\",\n        \"std\": 63,\n        \"min\": 1,\n        \"max\": 365,\n        \"num_unique_values\": 14,\n        \"samples\": [\n          91,\n          100,\n          28\n        ],\n        \"semantic_type\": \"\",\n        \"description\": \"\"\n      }\n    },\n    {\n      \"column\": \"79.99\",\n      \"properties\": {\n        \"dtype\": \"number\",\n        \"std\": 16.656933271041332,\n        \"min\": 2.33,\n        \"max\": 82.6,\n        \"num_unique_values\": 844,\n        \"samples\": [\n          27.74,\n          13.82,\n          16.89\n        ],\n        \"semantic_type\": \"\",\n        \"description\": \"\"\n      }\n    }\n  ]\n}"
            }
          },
          "metadata": {},
          "execution_count": 217
        }
      ]
    },
    {
      "cell_type": "code",
      "source": [
        "\n",
        "X_concrete = df_concrete.iloc[:, :-1].values\n",
        "y_concrete = df_concrete.iloc[:, -1].values"
      ],
      "metadata": {
        "id": "dUgXk3VkR1U6"
      },
      "id": "dUgXk3VkR1U6",
      "execution_count": 206,
      "outputs": []
    },
    {
      "cell_type": "code",
      "source": [
        "clf = LinearRegression(X_concrete, y_concrete, learning_rate=0.1 * 10**-2, tolerance=0.1 * 10**-2, max_iterations=50000, lambda_ = 0,\n",
        "                       sgd_iterations=100, batch_size=1, gd=False, regularization=False, sgd=False)\n",
        "clf.fit()\n",
        "\n",
        "# Since normal equation doesn't populate the errors list, we only plot RMSE if using gradient descent or SGD\n",
        "#if clf.gd or clf.sgd:\n",
        " #   clf.plot_rmse(clf.errors)"
      ],
      "metadata": {
        "colab": {
          "base_uri": "https://localhost:8080/"
        },
        "id": "jBN9OEHVR1X1",
        "outputId": "5e7701d2-8c7b-4f0e-bdba-4440bf6073b1"
      },
      "id": "jBN9OEHVR1X1",
      "execution_count": 207,
      "outputs": [
        {
          "output_type": "stream",
          "name": "stdout",
          "text": [
            "Solving using Normal Equation...\n",
            "Without Regularization\n",
            "Final weights: [35.55354167 12.925824    9.18415887  5.99894448 -2.68388892  1.62553944\n",
            "  1.60027474  2.09182639  7.37372415]\n"
          ]
        }
      ]
    },
    {
      "cell_type": "code",
      "source": [
        "clf = LinearRegression(X_concrete, y_concrete, learning_rate=0.1 * 10**-2, tolerance=0.1 * 10**-2, max_iterations=50000, lambda_=0.001,\n",
        "                       sgd_iterations=100, batch_size=1, gd=False, regularization=True, sgd=False)\n",
        "clf.fit()\n",
        "\n",
        "# Since normal equation doesn't populate the errors list, we only plot RMSE if using gradient descent or SGD\n",
        "#if clf.gd or clf.sgd:\n",
        " #   clf.plot_rmse(clf.errors)"
      ],
      "metadata": {
        "colab": {
          "base_uri": "https://localhost:8080/"
        },
        "id": "umMI_44ZR1fH",
        "outputId": "3dd7d9ad-8ea3-4392-a1c2-7b4d37d58c79"
      },
      "id": "umMI_44ZR1fH",
      "execution_count": 208,
      "outputs": [
        {
          "output_type": "stream",
          "name": "stdout",
          "text": [
            "Solving using Normal Equation...\n",
            "With Regularization\n",
            "Final weights: [35.87205556 11.79200617  8.14214366  4.85724666 -3.8923545   1.62621356\n",
            "  0.56893656  1.12634838  7.14618555]\n"
          ]
        }
      ]
    },
    {
      "cell_type": "code",
      "source": [
        "clf = LinearRegression(X_concrete, y_concrete, learning_rate=0.1 * 10**-2, tolerance=0.1 * 10**-2, max_iterations=50000, lambda_=0,\n",
        "                       sgd_iterations=100, batch_size=1, gd=True, regularization=False, sgd=False)\n",
        "clf.fit()\n",
        "\n",
        "# Since normal equation doesn't populate the errors list, we only plot RMSE if using gradient descent or SGD\n",
        "#if clf.gd or clf.sgd:\n",
        " #   clf.plot_rmse(clf.errors)"
      ],
      "metadata": {
        "colab": {
          "base_uri": "https://localhost:8080/",
          "height": 581
        },
        "id": "tmrJJ6w5R1iG",
        "outputId": "ab02c7e6-69d2-47ba-fe88-71fcab5792d4"
      },
      "id": "tmrJJ6w5R1iG",
      "execution_count": 209,
      "outputs": [
        {
          "output_type": "stream",
          "name": "stdout",
          "text": [
            "Solving using Gradient Descent...\n",
            "Without Regularization\n"
          ]
        },
        {
          "output_type": "stream",
          "name": "stderr",
          "text": [
            "  0%|          | 32/50000 [00:00<00:07, 6941.70it/s]"
          ]
        },
        {
          "output_type": "stream",
          "name": "stdout",
          "text": [
            "The model stopped learning\n"
          ]
        },
        {
          "output_type": "stream",
          "name": "stderr",
          "text": [
            "\n"
          ]
        },
        {
          "output_type": "display_data",
          "data": {
            "text/plain": [
              "<Figure size 640x480 with 1 Axes>"
            ],
            "image/png": "[encoded data removed]"
          },
          "metadata": {}
        },
        {
          "output_type": "stream",
          "name": "stdout",
          "text": [
            "Final weights: [35.69229167  9.35007048  6.22292471  3.07328749 -5.13477124  1.72077351\n",
            " -0.39220869 -1.00317777  7.41218238]\n"
          ]
        }
      ]
    },
    {
      "cell_type": "code",
      "source": [
        "clf = LinearRegression(X_concrete, y_concrete, learning_rate=0.1 * 10**-2, tolerance=0.1 * 10**-2, max_iterations=50000, lambda_=0.001,\n",
        "                       sgd_iterations=100, batch_size=1, gd=True, regularization=True, sgd=False)\n",
        "clf.fit()\n",
        "\n",
        "# Since normal equation doesn't populate the errors list, we only plot RMSE if using gradient descent or SGD\n",
        "#if clf.gd or clf.sgd:\n",
        " #   clf.plot_rmse(clf.errors)"
      ],
      "metadata": {
        "colab": {
          "base_uri": "https://localhost:8080/",
          "height": 581
        },
        "id": "thab1lKUR1lZ",
        "outputId": "fce12c3a-1228-4296-f96a-2d1e32b4c7ec"
      },
      "id": "thab1lKUR1lZ",
      "execution_count": 210,
      "outputs": [
        {
          "output_type": "stream",
          "name": "stdout",
          "text": [
            "Solving using Gradient Descent...\n",
            "With Regularization\n"
          ]
        },
        {
          "output_type": "stream",
          "name": "stderr",
          "text": [
            "  0%|          | 32/50000 [00:00<00:04, 10282.52it/s]"
          ]
        },
        {
          "output_type": "stream",
          "name": "stdout",
          "text": [
            "The model stopped learning\n"
          ]
        },
        {
          "output_type": "stream",
          "name": "stderr",
          "text": [
            "\n"
          ]
        },
        {
          "output_type": "display_data",
          "data": {
            "text/plain": [
              "<Figure size 640x480 with 1 Axes>"
            ],
            "image/png": "[encoded data removed]"
          },
          "metadata": {}
        },
        {
          "output_type": "stream",
          "name": "stdout",
          "text": [
            "Final weights: [36.49021321  9.89966578  6.18658533  3.06762574 -5.56313591  1.50705593\n",
            " -0.8431764  -1.14951491  6.64190305]\n"
          ]
        }
      ]
    },
    {
      "cell_type": "code",
      "source": [
        "clf = LinearRegression(X_concrete, y_concrete, learning_rate=0.1 * 10**-2, tolerance=0.1 * 10**-2, max_iterations=50000, lambda_=0,\n",
        "                       sgd_iterations=100, batch_size=80, gd=False, regularization=False, sgd=True)\n",
        "clf.fit()"
      ],
      "metadata": {
        "colab": {
          "base_uri": "https://localhost:8080/",
          "height": 563
        },
        "id": "CmZUDnteSqLH",
        "outputId": "0dd92248-d546-4c9e-b281-43245a579370"
      },
      "id": "CmZUDnteSqLH",
      "execution_count": 211,
      "outputs": [
        {
          "output_type": "stream",
          "name": "stdout",
          "text": [
            "Solving using Stochastic Gradient Descent...\n"
          ]
        },
        {
          "output_type": "stream",
          "name": "stderr",
          "text": [
            " 49%|████▉     | 49/100 [00:00<00:00, 7400.03it/s]"
          ]
        },
        {
          "output_type": "stream",
          "name": "stdout",
          "text": [
            "The model stopped learning\n"
          ]
        },
        {
          "output_type": "stream",
          "name": "stderr",
          "text": [
            "\n"
          ]
        },
        {
          "output_type": "display_data",
          "data": {
            "text/plain": [
              "<Figure size 640x480 with 1 Axes>"
            ],
            "image/png": "[encoded data removed]"
          },
          "metadata": {}
        },
        {
          "output_type": "stream",
          "name": "stdout",
          "text": [
            "Final weights: [35.47750597  7.03422431  3.65009387 -0.07356063 -5.05036682  3.89262097\n",
            " -1.69794777 -2.59400708  6.16191903]\n"
          ]
        }
      ]
    },
    {
      "cell_type": "markdown",
      "source": [
        "## Observations:\n",
        "\n",
        "## Effects on Learning:\n",
        "\n",
        "### Learning Rate:\n",
        "- **Effect on Convergence Speed:** A higher learning rate accelerates convergence, making the model reach an acceptable solution faster. However, if the learning rate is too high, the model might oscillate around the optimal solution or even diverge.\n",
        "\n",
        "### Regularization Parameter:\n",
        "- **Control Overfitting:** Increasing the regularization parameter encourages the model to favor simpler solutions, which helps prevent overfitting on the training data. However, setting it too high may excessively constrain the model, leading to underfitting and poor performance on both training and test data.\n",
        "- **Balance Between Bias and Variance:** Finding the right balance in the regularization parameter is crucial. A moderate regularization parameter value typically achieves the best tradeoff between bias and variance, resulting in a model that generalizes well to unseen data.\n",
        "\n",
        "## Conclusion:\n",
        "Optimizing the learning rate and regularization parameters involves finding the right balance between convergence speed, stability, and model complexity. Experimentation and validation on a separate validation dataset are essential to determine the optimal values for these parameters, ensuring that the trained model generalizes well to unseen data while avoiding underfitting and overfitting issues.\n",
        "\n"
      ],
      "metadata": {
        "id": "F7Rb9i4hWEz-"
      },
      "id": "F7Rb9i4hWEz-"
    },
    {
      "cell_type": "code",
      "source": [],
      "metadata": {
        "id": "AdWIAgb1YBUo"
      },
      "id": "AdWIAgb1YBUo",
      "execution_count": null,
      "outputs": []
    }
  ],
  "metadata": {
    "kernelspec": {
      "display_name": "Python 3 (ipykernel)",
      "language": "python",
      "name": "python3"
    },
    "language_info": {
      "codemirror_mode": {
        "name": "ipython",
        "version": 3
      },
      "file_extension": ".py",
      "mimetype": "text/x-python",
      "name": "python",
      "nbconvert_exporter": "python",
      "pygments_lexer": "ipython3",
      "version": "3.10.9"
    },
    "colab": {
      "provenance": []
    }
  },
  "nbformat": 4,
  "nbformat_minor": 5
}